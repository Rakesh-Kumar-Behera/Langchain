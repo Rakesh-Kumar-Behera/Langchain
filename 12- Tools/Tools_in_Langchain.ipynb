{
  "nbformat": 4,
  "nbformat_minor": 0,
  "metadata": {
    "colab": {
      "provenance": []
    },
    "kernelspec": {
      "name": "python3",
      "display_name": "Python 3"
    },
    "language_info": {
      "name": "python"
    }
  },
  "cells": [
    {
      "cell_type": "markdown",
      "source": [
        "Tools in Langchain"
      ],
      "metadata": {
        "id": "iKf4GI5fICrd"
      }
    },
    {
      "cell_type": "code",
      "execution_count": 6,
      "metadata": {
        "colab": {
          "base_uri": "https://localhost:8080/"
        },
        "id": "YqnjrzxBH-xm",
        "outputId": "f34b780c-fb5a-419b-997a-4438b9072578"
      },
      "outputs": [
        {
          "output_type": "stream",
          "name": "stdout",
          "text": [
            "Requirement already satisfied: langchain in /usr/local/lib/python3.11/dist-packages (0.3.24)\n",
            "Requirement already satisfied: langchain-core in /usr/local/lib/python3.11/dist-packages (0.3.56)\n",
            "Requirement already satisfied: langchain-community in /usr/local/lib/python3.11/dist-packages (0.3.23)\n",
            "Requirement already satisfied: pydantic in /usr/local/lib/python3.11/dist-packages (2.11.4)\n",
            "Requirement already satisfied: duckduckgo-search in /usr/local/lib/python3.11/dist-packages (8.0.1)\n",
            "Collecting langchain-experimental\n",
            "  Downloading langchain_experimental-0.3.4-py3-none-any.whl.metadata (1.7 kB)\n",
            "Requirement already satisfied: langchain-text-splitters<1.0.0,>=0.3.8 in /usr/local/lib/python3.11/dist-packages (from langchain) (0.3.8)\n",
            "Requirement already satisfied: langsmith<0.4,>=0.1.17 in /usr/local/lib/python3.11/dist-packages (from langchain) (0.3.39)\n",
            "Requirement already satisfied: SQLAlchemy<3,>=1.4 in /usr/local/lib/python3.11/dist-packages (from langchain) (2.0.40)\n",
            "Requirement already satisfied: requests<3,>=2 in /usr/local/lib/python3.11/dist-packages (from langchain) (2.32.3)\n",
            "Requirement already satisfied: PyYAML>=5.3 in /usr/local/lib/python3.11/dist-packages (from langchain) (6.0.2)\n",
            "Requirement already satisfied: tenacity!=8.4.0,<10.0.0,>=8.1.0 in /usr/local/lib/python3.11/dist-packages (from langchain-core) (9.1.2)\n",
            "Requirement already satisfied: jsonpatch<2.0,>=1.33 in /usr/local/lib/python3.11/dist-packages (from langchain-core) (1.33)\n",
            "Requirement already satisfied: packaging<25,>=23.2 in /usr/local/lib/python3.11/dist-packages (from langchain-core) (24.2)\n",
            "Requirement already satisfied: typing-extensions>=4.7 in /usr/local/lib/python3.11/dist-packages (from langchain-core) (4.13.2)\n",
            "Requirement already satisfied: aiohttp<4.0.0,>=3.8.3 in /usr/local/lib/python3.11/dist-packages (from langchain-community) (3.11.15)\n",
            "Requirement already satisfied: dataclasses-json<0.7,>=0.5.7 in /usr/local/lib/python3.11/dist-packages (from langchain-community) (0.6.7)\n",
            "Requirement already satisfied: pydantic-settings<3.0.0,>=2.4.0 in /usr/local/lib/python3.11/dist-packages (from langchain-community) (2.9.1)\n",
            "Requirement already satisfied: httpx-sse<1.0.0,>=0.4.0 in /usr/local/lib/python3.11/dist-packages (from langchain-community) (0.4.0)\n",
            "Requirement already satisfied: numpy>=1.26.2 in /usr/local/lib/python3.11/dist-packages (from langchain-community) (2.0.2)\n",
            "Requirement already satisfied: annotated-types>=0.6.0 in /usr/local/lib/python3.11/dist-packages (from pydantic) (0.7.0)\n",
            "Requirement already satisfied: pydantic-core==2.33.2 in /usr/local/lib/python3.11/dist-packages (from pydantic) (2.33.2)\n",
            "Requirement already satisfied: typing-inspection>=0.4.0 in /usr/local/lib/python3.11/dist-packages (from pydantic) (0.4.0)\n",
            "Requirement already satisfied: click>=8.1.8 in /usr/local/lib/python3.11/dist-packages (from duckduckgo-search) (8.1.8)\n",
            "Requirement already satisfied: primp>=0.15.0 in /usr/local/lib/python3.11/dist-packages (from duckduckgo-search) (0.15.0)\n",
            "Requirement already satisfied: lxml>=5.3.0 in /usr/local/lib/python3.11/dist-packages (from duckduckgo-search) (5.4.0)\n",
            "Requirement already satisfied: aiohappyeyeballs>=2.3.0 in /usr/local/lib/python3.11/dist-packages (from aiohttp<4.0.0,>=3.8.3->langchain-community) (2.6.1)\n",
            "Requirement already satisfied: aiosignal>=1.1.2 in /usr/local/lib/python3.11/dist-packages (from aiohttp<4.0.0,>=3.8.3->langchain-community) (1.3.2)\n",
            "Requirement already satisfied: attrs>=17.3.0 in /usr/local/lib/python3.11/dist-packages (from aiohttp<4.0.0,>=3.8.3->langchain-community) (25.3.0)\n",
            "Requirement already satisfied: frozenlist>=1.1.1 in /usr/local/lib/python3.11/dist-packages (from aiohttp<4.0.0,>=3.8.3->langchain-community) (1.6.0)\n",
            "Requirement already satisfied: multidict<7.0,>=4.5 in /usr/local/lib/python3.11/dist-packages (from aiohttp<4.0.0,>=3.8.3->langchain-community) (6.4.3)\n",
            "Requirement already satisfied: propcache>=0.2.0 in /usr/local/lib/python3.11/dist-packages (from aiohttp<4.0.0,>=3.8.3->langchain-community) (0.3.1)\n",
            "Requirement already satisfied: yarl<2.0,>=1.17.0 in /usr/local/lib/python3.11/dist-packages (from aiohttp<4.0.0,>=3.8.3->langchain-community) (1.20.0)\n",
            "Requirement already satisfied: marshmallow<4.0.0,>=3.18.0 in /usr/local/lib/python3.11/dist-packages (from dataclasses-json<0.7,>=0.5.7->langchain-community) (3.26.1)\n",
            "Requirement already satisfied: typing-inspect<1,>=0.4.0 in /usr/local/lib/python3.11/dist-packages (from dataclasses-json<0.7,>=0.5.7->langchain-community) (0.9.0)\n",
            "Requirement already satisfied: jsonpointer>=1.9 in /usr/local/lib/python3.11/dist-packages (from jsonpatch<2.0,>=1.33->langchain-core) (3.0.0)\n",
            "Requirement already satisfied: httpx<1,>=0.23.0 in /usr/local/lib/python3.11/dist-packages (from langsmith<0.4,>=0.1.17->langchain) (0.28.1)\n",
            "Requirement already satisfied: orjson<4.0.0,>=3.9.14 in /usr/local/lib/python3.11/dist-packages (from langsmith<0.4,>=0.1.17->langchain) (3.10.18)\n",
            "Requirement already satisfied: requests-toolbelt<2.0.0,>=1.0.0 in /usr/local/lib/python3.11/dist-packages (from langsmith<0.4,>=0.1.17->langchain) (1.0.0)\n",
            "Requirement already satisfied: zstandard<0.24.0,>=0.23.0 in /usr/local/lib/python3.11/dist-packages (from langsmith<0.4,>=0.1.17->langchain) (0.23.0)\n",
            "Requirement already satisfied: python-dotenv>=0.21.0 in /usr/local/lib/python3.11/dist-packages (from pydantic-settings<3.0.0,>=2.4.0->langchain-community) (1.1.0)\n",
            "Requirement already satisfied: charset-normalizer<4,>=2 in /usr/local/lib/python3.11/dist-packages (from requests<3,>=2->langchain) (3.4.1)\n",
            "Requirement already satisfied: idna<4,>=2.5 in /usr/local/lib/python3.11/dist-packages (from requests<3,>=2->langchain) (3.10)\n",
            "Requirement already satisfied: urllib3<3,>=1.21.1 in /usr/local/lib/python3.11/dist-packages (from requests<3,>=2->langchain) (2.4.0)\n",
            "Requirement already satisfied: certifi>=2017.4.17 in /usr/local/lib/python3.11/dist-packages (from requests<3,>=2->langchain) (2025.4.26)\n",
            "Requirement already satisfied: greenlet>=1 in /usr/local/lib/python3.11/dist-packages (from SQLAlchemy<3,>=1.4->langchain) (3.2.1)\n",
            "Requirement already satisfied: anyio in /usr/local/lib/python3.11/dist-packages (from httpx<1,>=0.23.0->langsmith<0.4,>=0.1.17->langchain) (4.9.0)\n",
            "Requirement already satisfied: httpcore==1.* in /usr/local/lib/python3.11/dist-packages (from httpx<1,>=0.23.0->langsmith<0.4,>=0.1.17->langchain) (1.0.9)\n",
            "Requirement already satisfied: h11>=0.16 in /usr/local/lib/python3.11/dist-packages (from httpcore==1.*->httpx<1,>=0.23.0->langsmith<0.4,>=0.1.17->langchain) (0.16.0)\n",
            "Requirement already satisfied: mypy-extensions>=0.3.0 in /usr/local/lib/python3.11/dist-packages (from typing-inspect<1,>=0.4.0->dataclasses-json<0.7,>=0.5.7->langchain-community) (1.1.0)\n",
            "Requirement already satisfied: sniffio>=1.1 in /usr/local/lib/python3.11/dist-packages (from anyio->httpx<1,>=0.23.0->langsmith<0.4,>=0.1.17->langchain) (1.3.1)\n",
            "Downloading langchain_experimental-0.3.4-py3-none-any.whl (209 kB)\n",
            "\u001b[2K   \u001b[90m━━━━━━━━━━━━━━━━━━━━━━━━━━━━━━━━━━━━━━━━\u001b[0m \u001b[32m209.2/209.2 kB\u001b[0m \u001b[31m4.1 MB/s\u001b[0m eta \u001b[36m0:00:00\u001b[0m\n",
            "\u001b[?25hInstalling collected packages: langchain-experimental\n",
            "Successfully installed langchain-experimental-0.3.4\n"
          ]
        }
      ],
      "source": [
        "!pip install langchain langchain-core langchain-community pydantic duckduckgo-search langchain-experimental"
      ]
    },
    {
      "cell_type": "code",
      "source": [
        "from langchain_community.tools import BraveSearch"
      ],
      "metadata": {
        "id": "GNl4_asSJyXf"
      },
      "execution_count": 2,
      "outputs": []
    },
    {
      "cell_type": "markdown",
      "source": [
        "## Built-in Tool - DuckDuckGo Search"
      ],
      "metadata": {
        "id": "gxmEilJOKJT2"
      }
    },
    {
      "cell_type": "code",
      "source": [
        "from langchain_community.tools import DuckDuckGoSearchRun\n",
        "\n",
        "search_tools = DuckDuckGoSearchRun()\n",
        "\n",
        "results = search_tools.invoke(\"IPL News\")\n",
        "\n",
        "print(results)"
      ],
      "metadata": {
        "colab": {
          "base_uri": "https://localhost:8080/"
        },
        "id": "AQ-lGfEtKFCO",
        "outputId": "d26352e6-d614-4f52-ee65-134817300016"
      },
      "execution_count": 3,
      "outputs": [
        {
          "output_type": "stream",
          "name": "stdout",
          "text": [
            "IPL 2025, MI vs GT Highlights: Gujarat Titans beat Mumbai Indians by three wickets in a never-seen-before last-over thriller, which ran late into the night after multiple rain breaks and regular DLS calculations. A dominant bowling display by the visitors saw them restrict the high-flying Mumbai Indians to a meagre 155/8 in the first innings of the Indian Premier League 2025 fixture at the ... IPL 2025 points table: Find the latest updated standings of the Indian Premier League after the Mumbai Indians vs Gujarat Titans on Tuesday. May 07, 2025 00:32 GT wins by three wickets! GT needs 15 from six. Chahar places it in the slot outside off for Tewatia. Chipped over mid off for a four. MI ... Mumbai Indians' captain Hardik Pandya was handed a fine of Rs 24 lakh for his team's second slow over-rate offense of the season. As per the IPL's stringent regulations, a second breach of the slow over-rate rule is penalized heavily, and Pandya's fine is a reflection of the seriousness with which the league is enforcing this rule. The Indian Premier League (IPL) 2025 season, currently scheduled to go on till May 25, will continue normally, a Board of Control for Cricket in India (BCCI) source told ANI. Catch all the latest & breaking news on IPL 2025 Cricket series. Get all updates on IPL 2025 Cricket team players and coaches at NDTV Sports.\n"
          ]
        }
      ]
    },
    {
      "cell_type": "markdown",
      "source": [
        "## Built-in Tool - Shell Tool"
      ],
      "metadata": {
        "id": "VchPU5cYKnyr"
      }
    },
    {
      "cell_type": "code",
      "source": [
        "from langchain_community.tools import ShellTool\n",
        "\n",
        "shell_tools = ShellTool()\n",
        "\n",
        "results = shell_tools.invoke(\"ls\")\n",
        "\n",
        "print(results)"
      ],
      "metadata": {
        "colab": {
          "base_uri": "https://localhost:8080/"
        },
        "id": "0C6EAQLnKfQx",
        "outputId": "b9fc37e9-b44c-40d3-89c5-3ec9b61d6ca5"
      },
      "execution_count": 7,
      "outputs": [
        {
          "output_type": "stream",
          "name": "stdout",
          "text": [
            "Executing command:\n",
            " ls\n",
            "sample_data\n",
            "\n"
          ]
        },
        {
          "output_type": "stream",
          "name": "stderr",
          "text": [
            "/usr/local/lib/python3.11/dist-packages/langchain_community/tools/shell/tool.py:33: UserWarning: The shell tool has no safeguards by default. Use at your own risk.\n",
            "  warnings.warn(\n"
          ]
        }
      ]
    },
    {
      "cell_type": "code",
      "source": [
        "from langchain_community.tools import DuckDuckGoSearchRun\n",
        "\n",
        "search_tools = DuckDuckGoSearchRun()\n",
        "\n",
        "results = search_tools.invoke(\"Top News in India Today\")\n",
        "\n",
        "print(results)"
      ],
      "metadata": {
        "colab": {
          "base_uri": "https://localhost:8080/"
        },
        "id": "EPrCVdVGKwjC",
        "outputId": "abb8c81c-a702-422c-8eb0-a1b0d3014090"
      },
      "execution_count": 8,
      "outputs": [
        {
          "output_type": "stream",
          "name": "stdout",
          "text": [
            "Amid India's attack on Pakistan, all schools, colleges and educational institutions in Baramulla, Kupwara and Gurez will remain closed today, said Vijay Kumar Bidhuri, Divisional Commissioner of ... At least 12 people, including two children, were killed and 23 others injured when a bus carrying 34 passengers overturned on a steep downhill road in Indonesia's West Sumatra province on ... India News, Latest News India: Read Live Breaking News from India along with Latest News and Today's Top Headlines Online in Bharat. Stay Up-to-date with Top news in India, current headlines, photos & videos online, live coverage on entertainment, business, politics, sports, technology and more at indianexpress.com. Get updated with current top news stories from India and the world only on Zee News. Zee News brings latest news from India and World on breaking news, today news headlines, politics, business, technology, bollywood, entertainment, sports and others. Find exclusive news stories on Indian politics, current affairs, cricket matches, festivals and ... Headlines today: Get news headlines from India and around the world. Today's breaking news on politics, sports, entertainment, business, life style and many more on Times of India\n"
          ]
        }
      ]
    },
    {
      "cell_type": "markdown",
      "source": [
        "## Custom Tools"
      ],
      "metadata": {
        "id": "OP059lQyNmUi"
      }
    },
    {
      "cell_type": "code",
      "source": [
        "from langchain_core.tools import tool"
      ],
      "metadata": {
        "id": "sFLOa8YTMWtM"
      },
      "execution_count": 9,
      "outputs": []
    },
    {
      "cell_type": "code",
      "source": [
        "# step-1 create a function\n",
        "\n",
        "def multiply(a,b):\n",
        "  \"\"\"Multiply two numbers\"\"\"\n",
        "  return a*b"
      ],
      "metadata": {
        "id": "V3Kb58N1NsvA"
      },
      "execution_count": 10,
      "outputs": []
    },
    {
      "cell_type": "code",
      "source": [
        "# step 2 - add type hints\n",
        "\n",
        "def multiply(a:int,b:int) -> int:\n",
        "  \"\"\"Multiply two numbers\"\"\"\n",
        "  return a*b"
      ],
      "metadata": {
        "id": "y4HfMTOJN2hz"
      },
      "execution_count": 11,
      "outputs": []
    },
    {
      "cell_type": "code",
      "source": [
        "# step 3 - add tool decorator\n",
        "\n",
        "@tool\n",
        "def multiply(a:int,b:int) -> int:\n",
        "  \"\"\"Multiply two numbers\"\"\"\n",
        "  return a*b\n"
      ],
      "metadata": {
        "id": "jiS7vKgYN8yG"
      },
      "execution_count": 12,
      "outputs": []
    },
    {
      "cell_type": "code",
      "source": [
        "result = multiply.invoke({\"a\":5,\"b\":3})"
      ],
      "metadata": {
        "id": "xHxlDK7lOThB"
      },
      "execution_count": 13,
      "outputs": []
    },
    {
      "cell_type": "code",
      "source": [
        "print(result)"
      ],
      "metadata": {
        "colab": {
          "base_uri": "https://localhost:8080/"
        },
        "id": "LYIBUG9TOYAs",
        "outputId": "02e67b8b-1990-44ca-f435-4eb5b64a02d9"
      },
      "execution_count": 14,
      "outputs": [
        {
          "output_type": "stream",
          "name": "stdout",
          "text": [
            "15\n"
          ]
        }
      ]
    },
    {
      "cell_type": "code",
      "source": [
        "print(multiply.name)\n",
        "print(multiply.description)\n",
        "print(multiply.args)"
      ],
      "metadata": {
        "colab": {
          "base_uri": "https://localhost:8080/"
        },
        "id": "8ReaUZZ9Oaub",
        "outputId": "e177d610-5ca3-4436-9cda-5f2409a87db4"
      },
      "execution_count": 15,
      "outputs": [
        {
          "output_type": "stream",
          "name": "stdout",
          "text": [
            "multiply\n",
            "Multiply two numbers\n",
            "{'a': {'title': 'A', 'type': 'integer'}, 'b': {'title': 'B', 'type': 'integer'}}\n"
          ]
        }
      ]
    },
    {
      "cell_type": "code",
      "source": [
        "print(multiply.args_schema.model_json_schema())"
      ],
      "metadata": {
        "colab": {
          "base_uri": "https://localhost:8080/"
        },
        "id": "Q_6_8k1gOnon",
        "outputId": "e413f9e2-f7b8-4cf4-a99d-0e5689bf4a22"
      },
      "execution_count": 16,
      "outputs": [
        {
          "output_type": "stream",
          "name": "stdout",
          "text": [
            "{'description': 'Multiply two numbers', 'properties': {'a': {'title': 'A', 'type': 'integer'}, 'b': {'title': 'B', 'type': 'integer'}}, 'required': ['a', 'b'], 'title': 'multiply', 'type': 'object'}\n"
          ]
        }
      ]
    },
    {
      "cell_type": "markdown",
      "source": [
        "## Method 2 - Using StructuredTool"
      ],
      "metadata": {
        "id": "wicepAkzQNQ4"
      }
    },
    {
      "cell_type": "code",
      "source": [
        "from langchain.tools import StructuredTool\n",
        "from pydantic import BaseModel, Field"
      ],
      "metadata": {
        "id": "bGkriBt9PPxH"
      },
      "execution_count": 17,
      "outputs": []
    },
    {
      "cell_type": "code",
      "source": [
        "class MultiplyInput(BaseModel):\n",
        "  a: int = Field(required = True, description=\"first number\")\n",
        "  b: int = Field(required = True, description=\"second number\")"
      ],
      "metadata": {
        "id": "-UWcf7ddQb53"
      },
      "execution_count": 18,
      "outputs": []
    },
    {
      "cell_type": "code",
      "source": [
        "def multiply_func(a:int, b:int) -> int:\n",
        "  return a*b"
      ],
      "metadata": {
        "id": "SM6UOTEcQrUS"
      },
      "execution_count": 19,
      "outputs": []
    },
    {
      "cell_type": "code",
      "source": [
        "multiply_tool = StructuredTool.from_function(\n",
        "    func = multiply_func,\n",
        "    name = \"multiply\",\n",
        "    description = \"Multiply two numbers\",\n",
        "    args_schema = MultiplyInput\n",
        ")"
      ],
      "metadata": {
        "id": "1hfx15FiQzCE"
      },
      "execution_count": 20,
      "outputs": []
    },
    {
      "cell_type": "code",
      "source": [
        "result = multiply_tool.invoke({\"a\":5,\"b\":3})\n",
        "\n",
        "print(result)\n",
        "print(multiply_tool.name)\n",
        "print(multiply_tool.description)\n",
        "print(multiply_tool.args)"
      ],
      "metadata": {
        "colab": {
          "base_uri": "https://localhost:8080/"
        },
        "id": "LEP3qnpEQ7Id",
        "outputId": "615a3ae7-404b-4665-f04e-1c30263aa3c1"
      },
      "execution_count": 21,
      "outputs": [
        {
          "output_type": "stream",
          "name": "stdout",
          "text": [
            "15\n",
            "multiply\n",
            "Multiply two numbers\n",
            "{'a': {'description': 'first number', 'required': True, 'title': 'A', 'type': 'integer'}, 'b': {'description': 'second number', 'required': True, 'title': 'B', 'type': 'integer'}}\n"
          ]
        }
      ]
    },
    {
      "cell_type": "markdown",
      "source": [
        "## Method-3 Using Basetool class"
      ],
      "metadata": {
        "id": "4wJFHti6RSur"
      }
    },
    {
      "cell_type": "code",
      "source": [
        "from langchain.tools import BaseTool\n",
        "from typing import Type"
      ],
      "metadata": {
        "id": "6OY5XIL1ROC8"
      },
      "execution_count": 22,
      "outputs": []
    },
    {
      "cell_type": "code",
      "source": [
        "# arg schema using pydantic\n",
        "\n",
        "class MultiplyInput(BaseModel):\n",
        "  a: int = Field(required = True, description=\"first number\")\n",
        "  b: int = Field(required = True, description=\"second number\")"
      ],
      "metadata": {
        "id": "sAC3faHGSGsy"
      },
      "execution_count": 23,
      "outputs": []
    },
    {
      "cell_type": "code",
      "source": [
        "class MultiplyTool(BaseTool):\n",
        "  name: str = \"multiply\"\n",
        "  description: str = \"Multiply two numbers\"\n",
        "\n",
        "  args_schema: Type[BaseModel] = MultiplyInput\n",
        "\n",
        "  def _run(self, a:int,b:int) -> int:\n",
        "    return a*b"
      ],
      "metadata": {
        "id": "B_iwfikcSOW8"
      },
      "execution_count": 24,
      "outputs": []
    },
    {
      "cell_type": "code",
      "source": [
        "multiply_tool = MultiplyTool()"
      ],
      "metadata": {
        "id": "m7ZtTditSsMV"
      },
      "execution_count": 25,
      "outputs": []
    },
    {
      "cell_type": "code",
      "source": [
        "result = multiply_tool.invoke({\"a\":5,\"b\":3})\n",
        "\n",
        "print(result)\n",
        "print(multiply_tool.name)\n",
        "print(multiply_tool.description)\n",
        "print(multiply_tool.args)"
      ],
      "metadata": {
        "colab": {
          "base_uri": "https://localhost:8080/"
        },
        "id": "Yihl6rE3SzsE",
        "outputId": "15a4ebc2-17be-40c9-ae4d-87f27362ee9f"
      },
      "execution_count": 26,
      "outputs": [
        {
          "output_type": "stream",
          "name": "stdout",
          "text": [
            "15\n",
            "multiply\n",
            "Multiply two numbers\n",
            "{'a': {'description': 'first number', 'required': True, 'title': 'A', 'type': 'integer'}, 'b': {'description': 'second number', 'required': True, 'title': 'B', 'type': 'integer'}}\n"
          ]
        }
      ]
    },
    {
      "cell_type": "code",
      "source": [],
      "metadata": {
        "id": "tlh8l9opS84x"
      },
      "execution_count": null,
      "outputs": []
    },
    {
      "cell_type": "markdown",
      "source": [
        "# Toolkit"
      ],
      "metadata": {
        "id": "y2ujXlp8TrGK"
      }
    },
    {
      "cell_type": "code",
      "source": [
        "from langchain_core.tools import tool\n",
        "\n",
        "# custom tools\n",
        "\n",
        "@tool\n",
        "def add(a:int , b:int) -> int:\n",
        "  \"\"\"Add two numbers\"\"\"\n",
        "  return a+b\n",
        "\n",
        "@tool\n",
        "def multiply(a:int , b:int) -> int:\n",
        "  \"\"\"Multiply two numbers\"\"\"\n",
        "  return a*b"
      ],
      "metadata": {
        "id": "SaVO9rh3Ts4T"
      },
      "execution_count": 27,
      "outputs": []
    },
    {
      "cell_type": "code",
      "source": [
        "class MathToolKit:\n",
        "  def get_tools(self):\n",
        "    return [add, multiply]"
      ],
      "metadata": {
        "id": "DUzkLiKFT704"
      },
      "execution_count": 28,
      "outputs": []
    },
    {
      "cell_type": "code",
      "source": [
        "toolkit = MathToolKit()\n",
        "\n",
        "tools = toolkit.get_tools()\n",
        "\n",
        "for tool in tools:\n",
        "  print(tool.name , \"=>\" , tool.description)"
      ],
      "metadata": {
        "colab": {
          "base_uri": "https://localhost:8080/"
        },
        "id": "d4Ll9rVCUErO",
        "outputId": "88daf345-07bb-44a2-805d-bdae9274ebdb"
      },
      "execution_count": 29,
      "outputs": [
        {
          "output_type": "stream",
          "name": "stdout",
          "text": [
            "add => Add two numbers\n",
            "multiply => Multiply two numbers\n"
          ]
        }
      ]
    },
    {
      "cell_type": "code",
      "source": [],
      "metadata": {
        "id": "lklrH8MMUTRP"
      },
      "execution_count": null,
      "outputs": []
    }
  ]
}