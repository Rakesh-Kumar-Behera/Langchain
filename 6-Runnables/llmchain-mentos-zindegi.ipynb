{
 "cells": [
  {
   "cell_type": "markdown",
   "id": "d6096333",
   "metadata": {},
   "source": [
    "#### LLM Mentos Zindegi"
   ]
  },
  {
   "cell_type": "markdown",
   "id": "01fec2ec",
   "metadata": {},
   "source": []
  },
  {
   "cell_type": "code",
   "execution_count": 1,
   "id": "a6bceb90",
   "metadata": {},
   "outputs": [],
   "source": [
    "import random\n",
    "\n",
    "class NakliLLm:\n",
    "\n",
    "    def __init__(self):\n",
    "        print('LLM Created')\n",
    "\n",
    "    def predict(self, prompt):\n",
    "        # Simulate a prediction by returning a random response\n",
    "        responses = [\n",
    "            \"Delhi is the capital of India.\",\n",
    "            \"IPL is a popular cricket tournament.\",\n",
    "            \"The Taj Mahal is a famous monument in India.\",\n",
    "            \"AI stands for Artificial Intelligence.\",\n",
    "            \"Python is a programming language.\",\n",
    "        ]\n",
    "        # Randomly select a response from the list\n",
    "        return { 'response': random.choice(responses)}"
   ]
  },
  {
   "cell_type": "code",
   "execution_count": 2,
   "id": "dafd17ce",
   "metadata": {},
   "outputs": [],
   "source": [
    "class nakliPromptTemplate:\n",
    "    def __init__(self, template, input_variables):\n",
    "        self.template = template\n",
    "        self.input_variables = input_variables\n",
    "\n",
    "    def format(self, input_dict):\n",
    "        return self.template.format(**input_dict)"
   ]
  },
  {
   "cell_type": "code",
   "execution_count": 3,
   "id": "d6f6e9e8",
   "metadata": {},
   "outputs": [],
   "source": [
    "from abc import ABC, abstractmethod"
   ]
  },
  {
   "cell_type": "code",
   "execution_count": 4,
   "id": "5ccacf13",
   "metadata": {},
   "outputs": [],
   "source": [
    "class Runnable(ABC):\n",
    "    @abstractmethod\n",
    "    def invoke(input_data):\n",
    "        pass"
   ]
  },
  {
   "cell_type": "code",
   "execution_count": 39,
   "id": "d64575c9",
   "metadata": {},
   "outputs": [],
   "source": [
    "class NakliLLm(Runnable):\n",
    "\n",
    "    def __init__(self):\n",
    "        print('LLM Created')\n",
    "\n",
    "    def invoke(self, prompt):\n",
    "        # Simulate a prediction by returning a random response\n",
    "        responses = [\n",
    "            \"Delhi is the capital of India.\",\n",
    "            \"IPL is a popular cricket tournament.\",\n",
    "            \"The Taj Mahal is a famous monument in India.\",\n",
    "            \"AI stands for Artificial Intelligence.\",\n",
    "            \"Python is a programming language.\",\n",
    "        ]\n",
    "        # Randomly select a response from the list\n",
    "        return { 'response': random.choice(responses)}\n",
    "    \n",
    "    def predict(self, prompt):\n",
    "        # Simulate a prediction by returning a random response\n",
    "        responses = [\n",
    "            \"Delhi is the capital of India.\",\n",
    "            \"IPL is a popular cricket tournament.\",\n",
    "            \"AI stands for Artificial Intelligence.\"\n",
    "        ]\n",
    "        # Randomly select a response from the list\n",
    "        return { 'response': random.choice(responses)}"
   ]
  },
  {
   "cell_type": "code",
   "execution_count": 40,
   "id": "5bfdccb8",
   "metadata": {},
   "outputs": [],
   "source": [
    "class nakliPromptTemplate(Runnable):\n",
    "    def __init__(self, template, input_variables):\n",
    "        self.template = template\n",
    "        self.input_variables = input_variables\n",
    "\n",
    "    def format(self, input_dict):\n",
    "        return self.template.format(**input_dict) # you can return a msg saying this is going to be depricated in future and use invoke method instead\n",
    "    \n",
    "    def invoke(self, input_dict):\n",
    "        return self.template.format(**input_dict)"
   ]
  },
  {
   "cell_type": "code",
   "execution_count": 41,
   "id": "2a917a76",
   "metadata": {},
   "outputs": [],
   "source": [
    "class RunnableConnector(Runnable):\n",
    "    def __init__(self, runnables_list):\n",
    "        self.runnables_list = runnables_list\n",
    "\n",
    "    def invoke(self, input_data):\n",
    "        for runnable in self.runnables_list: \n",
    "            input_data = runnable.invoke(input_data)\n",
    "        return input_data    "
   ]
  },
  {
   "cell_type": "code",
   "execution_count": 46,
   "id": "34abb355",
   "metadata": {},
   "outputs": [
    {
     "name": "stdout",
     "output_type": "stream",
     "text": [
      "LLM Created\n"
     ]
    }
   ],
   "source": [
    "template = nakliPromptTemplate(\n",
    "    template=\"Write a {length} summary about {country}\", \n",
    "    input_variables=[\"length\",\"country\"]\n",
    ")\n",
    "\n",
    "llm = NakliLLm()"
   ]
  },
  {
   "cell_type": "code",
   "execution_count": 49,
   "id": "0ea4628b",
   "metadata": {},
   "outputs": [],
   "source": [
    "chain = RunnableConnector([template,llm])"
   ]
  },
  {
   "cell_type": "code",
   "execution_count": 50,
   "id": "2cc06a4f",
   "metadata": {},
   "outputs": [
    {
     "data": {
      "text/plain": [
       "{'response': 'Python is a programming language.'}"
      ]
     },
     "execution_count": 50,
     "metadata": {},
     "output_type": "execute_result"
    }
   ],
   "source": [
    "chain.invoke( {'length': 'long', 'country': 'India'})"
   ]
  },
  {
   "cell_type": "code",
   "execution_count": 51,
   "id": "1c80e7eb",
   "metadata": {},
   "outputs": [],
   "source": [
    "class NakliStrOutputParser(Runnable):\n",
    "    def __init__(self):\n",
    "        pass\n",
    "\n",
    "    def invoke(self, input_data):\n",
    "        # Assuming input_data is a string, we can just return it as is\n",
    "        return input_data['response']\n",
    "     \n",
    "        "
   ]
  },
  {
   "cell_type": "code",
   "execution_count": 52,
   "id": "b7de1d86",
   "metadata": {},
   "outputs": [],
   "source": [
    "parser = NakliStrOutputParser()"
   ]
  },
  {
   "cell_type": "code",
   "execution_count": 53,
   "id": "392c1abc",
   "metadata": {},
   "outputs": [],
   "source": [
    "chain = RunnableConnector([template,llm,parser])\n"
   ]
  },
  {
   "cell_type": "code",
   "execution_count": 54,
   "id": "8cfe14dc",
   "metadata": {},
   "outputs": [
    {
     "data": {
      "text/plain": [
       "'IPL is a popular cricket tournament.'"
      ]
     },
     "execution_count": 54,
     "metadata": {},
     "output_type": "execute_result"
    }
   ],
   "source": [
    "chain.invoke({\"length\": \"short\", \"country\": \"India\"})"
   ]
  },
  {
   "cell_type": "markdown",
   "id": "adc01c20",
   "metadata": {},
   "source": [
    "very long chain"
   ]
  },
  {
   "cell_type": "code",
   "execution_count": 55,
   "id": "d058aaf7",
   "metadata": {},
   "outputs": [],
   "source": [
    "template1 = nakliPromptTemplate(\n",
    "    template=\"Write a joke about {topic}\", \n",
    "    input_variables=[\"topic\"]\n",
    ")   \n",
    "\n",
    "template2 = nakliPromptTemplate(\n",
    "    template=\"Explain the following joke {response}\", \n",
    "    input_variables=[\"response\"]\n",
    ")"
   ]
  },
  {
   "cell_type": "code",
   "execution_count": 56,
   "id": "55293108",
   "metadata": {},
   "outputs": [
    {
     "name": "stdout",
     "output_type": "stream",
     "text": [
      "LLM Created\n"
     ]
    }
   ],
   "source": [
    "llm = NakliLLm()"
   ]
  },
  {
   "cell_type": "code",
   "execution_count": 57,
   "id": "756db44d",
   "metadata": {},
   "outputs": [],
   "source": [
    "parser = NakliStrOutputParser()"
   ]
  },
  {
   "cell_type": "code",
   "execution_count": 58,
   "id": "f0c6ffd7",
   "metadata": {},
   "outputs": [],
   "source": [
    "chain1 = RunnableConnector([template1,llm])"
   ]
  },
  {
   "cell_type": "code",
   "execution_count": 59,
   "id": "c69e3253",
   "metadata": {},
   "outputs": [],
   "source": [
    "chain2 = RunnableConnector([template2,llm,parser])"
   ]
  },
  {
   "cell_type": "code",
   "execution_count": 60,
   "id": "bd66723a",
   "metadata": {},
   "outputs": [
    {
     "data": {
      "text/plain": [
       "'Python is a programming language.'"
      ]
     },
     "execution_count": 60,
     "metadata": {},
     "output_type": "execute_result"
    }
   ],
   "source": [
    "chain2.invoke({\"response\": \"Why did the chicken cross the road? To get to the other side!\"})"
   ]
  },
  {
   "cell_type": "code",
   "execution_count": 61,
   "id": "2ee8fe36",
   "metadata": {},
   "outputs": [],
   "source": [
    "final_chain = RunnableConnector([chain1,chain2])"
   ]
  },
  {
   "cell_type": "code",
   "execution_count": 62,
   "id": "ac474bba",
   "metadata": {},
   "outputs": [
    {
     "data": {
      "text/plain": [
       "'IPL is a popular cricket tournament.'"
      ]
     },
     "execution_count": 62,
     "metadata": {},
     "output_type": "execute_result"
    }
   ],
   "source": [
    "final_chain.invoke({\"topic\": \"chicken\"})"
   ]
  },
  {
   "cell_type": "code",
   "execution_count": null,
   "id": "55baeae7",
   "metadata": {},
   "outputs": [],
   "source": []
  }
 ],
 "metadata": {
  "kernelspec": {
   "display_name": "genaienv",
   "language": "python",
   "name": "python3"
  },
  "language_info": {
   "codemirror_mode": {
    "name": "ipython",
    "version": 3
   },
   "file_extension": ".py",
   "mimetype": "text/x-python",
   "name": "python",
   "nbconvert_exporter": "python",
   "pygments_lexer": "ipython3",
   "version": "3.10.11"
  }
 },
 "nbformat": 4,
 "nbformat_minor": 5
}
